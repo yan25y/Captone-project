{
 "cells": [
  {
   "cell_type": "code",
   "execution_count": 1,
   "metadata": {},
   "outputs": [],
   "source": [
    "import pandas as pd\n",
    "import numpy as np"
   ]
  },
  {
   "cell_type": "markdown",
   "metadata": {},
   "source": [
    "## Step 1. Scrape data from Wiki and transform it into a cleaned-up dataframe"
   ]
  },
  {
   "cell_type": "code",
   "execution_count": 3,
   "metadata": {},
   "outputs": [],
   "source": [
    "!wget -q -O toronto.csv https://www.dropbox.com/s/1skvw8x5shxve6m/Toronto%20data.csv?dl=0"
   ]
  },
  {
   "cell_type": "code",
   "execution_count": 4,
   "metadata": {},
   "outputs": [
    {
     "data": {
      "text/html": [
       "<div>\n",
       "<style scoped>\n",
       "    .dataframe tbody tr th:only-of-type {\n",
       "        vertical-align: middle;\n",
       "    }\n",
       "\n",
       "    .dataframe tbody tr th {\n",
       "        vertical-align: top;\n",
       "    }\n",
       "\n",
       "    .dataframe thead th {\n",
       "        text-align: right;\n",
       "    }\n",
       "</style>\n",
       "<table border=\"1\" class=\"dataframe\">\n",
       "  <thead>\n",
       "    <tr style=\"text-align: right;\">\n",
       "      <th></th>\n",
       "      <th>Postcode</th>\n",
       "      <th>Borough</th>\n",
       "      <th>Neighbourhood</th>\n",
       "    </tr>\n",
       "  </thead>\n",
       "  <tbody>\n",
       "    <tr>\n",
       "      <th>0</th>\n",
       "      <td>M1A</td>\n",
       "      <td>Not assigned</td>\n",
       "      <td>Not assigned</td>\n",
       "    </tr>\n",
       "    <tr>\n",
       "      <th>1</th>\n",
       "      <td>M2A</td>\n",
       "      <td>Not assigned</td>\n",
       "      <td>Not assigned</td>\n",
       "    </tr>\n",
       "    <tr>\n",
       "      <th>2</th>\n",
       "      <td>M3A</td>\n",
       "      <td>North York</td>\n",
       "      <td>Parkwoods</td>\n",
       "    </tr>\n",
       "    <tr>\n",
       "      <th>3</th>\n",
       "      <td>M4A</td>\n",
       "      <td>North York</td>\n",
       "      <td>Victoria Village</td>\n",
       "    </tr>\n",
       "    <tr>\n",
       "      <th>4</th>\n",
       "      <td>M5A</td>\n",
       "      <td>Downtown Toronto</td>\n",
       "      <td>Harbourfront</td>\n",
       "    </tr>\n",
       "  </tbody>\n",
       "</table>\n",
       "</div>"
      ],
      "text/plain": [
       "  Postcode           Borough     Neighbourhood\n",
       "0      M1A      Not assigned      Not assigned\n",
       "1      M2A      Not assigned      Not assigned\n",
       "2      M3A        North York         Parkwoods\n",
       "3      M4A        North York  Victoria Village\n",
       "4      M5A  Downtown Toronto      Harbourfront"
      ]
     },
     "execution_count": 4,
     "metadata": {},
     "output_type": "execute_result"
    }
   ],
   "source": [
    "toronto_df = pd.read_csv ('toronto.csv')\n",
    "toronto_df.head()"
   ]
  },
  {
   "cell_type": "code",
   "execution_count": 5,
   "metadata": {},
   "outputs": [],
   "source": [
    "toronto_df.replace('Not assigned',np.nan, inplace=True)"
   ]
  },
  {
   "cell_type": "code",
   "execution_count": 6,
   "metadata": {},
   "outputs": [],
   "source": [
    "for index, row in toronto_df.iterrows():\n",
    "    if row['Neighbourhood'] is np.nan:\n",
    "        row['Neighbourhood'] = row['Borough']\n",
    "        "
   ]
  },
  {
   "cell_type": "code",
   "execution_count": 7,
   "metadata": {},
   "outputs": [],
   "source": [
    "toronto_df.dropna(axis=0,how='any',inplace=True)"
   ]
  },
  {
   "cell_type": "code",
   "execution_count": 8,
   "metadata": {},
   "outputs": [],
   "source": [
    "grouped_toronto = toronto_df.groupby('Postcode')['Neighbourhood'].apply(','.join).reset_index()"
   ]
  },
  {
   "cell_type": "code",
   "execution_count": 183,
   "metadata": {},
   "outputs": [
    {
     "data": {
      "text/html": [
       "<div>\n",
       "<style scoped>\n",
       "    .dataframe tbody tr th:only-of-type {\n",
       "        vertical-align: middle;\n",
       "    }\n",
       "\n",
       "    .dataframe tbody tr th {\n",
       "        vertical-align: top;\n",
       "    }\n",
       "\n",
       "    .dataframe thead th {\n",
       "        text-align: right;\n",
       "    }\n",
       "</style>\n",
       "<table border=\"1\" class=\"dataframe\">\n",
       "  <thead>\n",
       "    <tr style=\"text-align: right;\">\n",
       "      <th></th>\n",
       "      <th>Postcode</th>\n",
       "      <th>Neighbourhood</th>\n",
       "    </tr>\n",
       "  </thead>\n",
       "  <tbody>\n",
       "    <tr>\n",
       "      <th>0</th>\n",
       "      <td>M1B</td>\n",
       "      <td>Rouge,Malvern</td>\n",
       "    </tr>\n",
       "    <tr>\n",
       "      <th>1</th>\n",
       "      <td>M1C</td>\n",
       "      <td>Highland Creek,Rouge Hill,Port Union</td>\n",
       "    </tr>\n",
       "    <tr>\n",
       "      <th>2</th>\n",
       "      <td>M1E</td>\n",
       "      <td>Guildwood,Morningside,West Hill</td>\n",
       "    </tr>\n",
       "    <tr>\n",
       "      <th>3</th>\n",
       "      <td>M1G</td>\n",
       "      <td>Woburn</td>\n",
       "    </tr>\n",
       "    <tr>\n",
       "      <th>4</th>\n",
       "      <td>M1H</td>\n",
       "      <td>Cedarbrae</td>\n",
       "    </tr>\n",
       "  </tbody>\n",
       "</table>\n",
       "</div>"
      ],
      "text/plain": [
       "  Postcode                         Neighbourhood\n",
       "0      M1B                         Rouge,Malvern\n",
       "1      M1C  Highland Creek,Rouge Hill,Port Union\n",
       "2      M1E       Guildwood,Morningside,West Hill\n",
       "3      M1G                                Woburn\n",
       "4      M1H                             Cedarbrae"
      ]
     },
     "execution_count": 183,
     "metadata": {},
     "output_type": "execute_result"
    }
   ],
   "source": [
    "grouped_toronto.head()"
   ]
  },
  {
   "cell_type": "markdown",
   "metadata": {},
   "source": [
    "## Step 2: Obtain the latitude and longitude of each postal region"
   ]
  },
  {
   "cell_type": "code",
   "execution_count": 10,
   "metadata": {},
   "outputs": [],
   "source": [
    "#!conda install -c conda-forge geocoder\n",
    "#import geocoder"
   ]
  },
  {
   "cell_type": "code",
   "execution_count": 11,
   "metadata": {},
   "outputs": [
    {
     "data": {
      "text/plain": [
       "\"\\nAttempting to using geocoder to get latitude and longitude for each point, but it took too long for each point, so I switched to method B (see below)\\n\\nfor index, row in grouped_toronto.iterrows():\\n    print(index)\\n    lat_lng_coords = None\\n    while(lat_lng_coords is None):\\n        g = geocoder.google('{}, Toronto, Ontario'.format(row['Postcode']))\\n        lat_lng_coords = g.latlng\\n    row['latitude'] = lat_lng_coords[0]\\n    row['longitude'] = lat_lng_coords[1]\\n    \\n    \""
      ]
     },
     "execution_count": 11,
     "metadata": {},
     "output_type": "execute_result"
    }
   ],
   "source": [
    "'''\n",
    "Attempting to using geocoder to get latitude and longitude for each point, but it took too long for each point, so I switched to method B (see below)\n",
    "\n",
    "for index, row in grouped_toronto.iterrows():\n",
    "    print(index)\n",
    "    lat_lng_coords = None\n",
    "    while(lat_lng_coords is None):\n",
    "        g = geocoder.google('{}, Toronto, Ontario'.format(row['Postcode']))\n",
    "        lat_lng_coords = g.latlng\n",
    "    row['latitude'] = lat_lng_coords[0]\n",
    "    row['longitude'] = lat_lng_coords[1]\n",
    "    \n",
    "    '''"
   ]
  },
  {
   "cell_type": "code",
   "execution_count": 12,
   "metadata": {},
   "outputs": [],
   "source": [
    "!wget -q -O lat_long.csv https://cocl.us/Geospatial_data"
   ]
  },
  {
   "cell_type": "code",
   "execution_count": 13,
   "metadata": {},
   "outputs": [
    {
     "data": {
      "text/html": [
       "<div>\n",
       "<style scoped>\n",
       "    .dataframe tbody tr th:only-of-type {\n",
       "        vertical-align: middle;\n",
       "    }\n",
       "\n",
       "    .dataframe tbody tr th {\n",
       "        vertical-align: top;\n",
       "    }\n",
       "\n",
       "    .dataframe thead th {\n",
       "        text-align: right;\n",
       "    }\n",
       "</style>\n",
       "<table border=\"1\" class=\"dataframe\">\n",
       "  <thead>\n",
       "    <tr style=\"text-align: right;\">\n",
       "      <th></th>\n",
       "      <th>Postal Code</th>\n",
       "      <th>Latitude</th>\n",
       "      <th>Longitude</th>\n",
       "    </tr>\n",
       "  </thead>\n",
       "  <tbody>\n",
       "    <tr>\n",
       "      <th>0</th>\n",
       "      <td>M1B</td>\n",
       "      <td>43.806686</td>\n",
       "      <td>-79.194353</td>\n",
       "    </tr>\n",
       "    <tr>\n",
       "      <th>1</th>\n",
       "      <td>M1C</td>\n",
       "      <td>43.784535</td>\n",
       "      <td>-79.160497</td>\n",
       "    </tr>\n",
       "    <tr>\n",
       "      <th>2</th>\n",
       "      <td>M1E</td>\n",
       "      <td>43.763573</td>\n",
       "      <td>-79.188711</td>\n",
       "    </tr>\n",
       "    <tr>\n",
       "      <th>3</th>\n",
       "      <td>M1G</td>\n",
       "      <td>43.770992</td>\n",
       "      <td>-79.216917</td>\n",
       "    </tr>\n",
       "    <tr>\n",
       "      <th>4</th>\n",
       "      <td>M1H</td>\n",
       "      <td>43.773136</td>\n",
       "      <td>-79.239476</td>\n",
       "    </tr>\n",
       "  </tbody>\n",
       "</table>\n",
       "</div>"
      ],
      "text/plain": [
       "  Postal Code   Latitude  Longitude\n",
       "0         M1B  43.806686 -79.194353\n",
       "1         M1C  43.784535 -79.160497\n",
       "2         M1E  43.763573 -79.188711\n",
       "3         M1G  43.770992 -79.216917\n",
       "4         M1H  43.773136 -79.239476"
      ]
     },
     "execution_count": 13,
     "metadata": {},
     "output_type": "execute_result"
    }
   ],
   "source": [
    "lat_long_df = pd.read_csv ('lat_long.csv')\n",
    "lat_long_df.head()"
   ]
  },
  {
   "cell_type": "code",
   "execution_count": 14,
   "metadata": {},
   "outputs": [],
   "source": [
    "merged_df = grouped_toronto.merge(lat_long_df, how='inner', left_on='Postcode',right_on='Postal Code').drop('Postal Code',axis=1)\n"
   ]
  },
  {
   "cell_type": "code",
   "execution_count": 185,
   "metadata": {},
   "outputs": [
    {
     "data": {
      "text/html": [
       "<div>\n",
       "<style scoped>\n",
       "    .dataframe tbody tr th:only-of-type {\n",
       "        vertical-align: middle;\n",
       "    }\n",
       "\n",
       "    .dataframe tbody tr th {\n",
       "        vertical-align: top;\n",
       "    }\n",
       "\n",
       "    .dataframe thead th {\n",
       "        text-align: right;\n",
       "    }\n",
       "</style>\n",
       "<table border=\"1\" class=\"dataframe\">\n",
       "  <thead>\n",
       "    <tr style=\"text-align: right;\">\n",
       "      <th></th>\n",
       "      <th>Postcode</th>\n",
       "      <th>Neighbourhood</th>\n",
       "      <th>Latitude</th>\n",
       "      <th>Longitude</th>\n",
       "    </tr>\n",
       "  </thead>\n",
       "  <tbody>\n",
       "    <tr>\n",
       "      <th>0</th>\n",
       "      <td>M1B</td>\n",
       "      <td>Rouge,Malvern</td>\n",
       "      <td>43.806686</td>\n",
       "      <td>-79.194353</td>\n",
       "    </tr>\n",
       "    <tr>\n",
       "      <th>1</th>\n",
       "      <td>M1C</td>\n",
       "      <td>Highland Creek,Rouge Hill,Port Union</td>\n",
       "      <td>43.784535</td>\n",
       "      <td>-79.160497</td>\n",
       "    </tr>\n",
       "    <tr>\n",
       "      <th>2</th>\n",
       "      <td>M1E</td>\n",
       "      <td>Guildwood,Morningside,West Hill</td>\n",
       "      <td>43.763573</td>\n",
       "      <td>-79.188711</td>\n",
       "    </tr>\n",
       "    <tr>\n",
       "      <th>3</th>\n",
       "      <td>M1G</td>\n",
       "      <td>Woburn</td>\n",
       "      <td>43.770992</td>\n",
       "      <td>-79.216917</td>\n",
       "    </tr>\n",
       "    <tr>\n",
       "      <th>4</th>\n",
       "      <td>M1H</td>\n",
       "      <td>Cedarbrae</td>\n",
       "      <td>43.773136</td>\n",
       "      <td>-79.239476</td>\n",
       "    </tr>\n",
       "  </tbody>\n",
       "</table>\n",
       "</div>"
      ],
      "text/plain": [
       "  Postcode                         Neighbourhood   Latitude  Longitude\n",
       "0      M1B                         Rouge,Malvern  43.806686 -79.194353\n",
       "1      M1C  Highland Creek,Rouge Hill,Port Union  43.784535 -79.160497\n",
       "2      M1E       Guildwood,Morningside,West Hill  43.763573 -79.188711\n",
       "3      M1G                                Woburn  43.770992 -79.216917\n",
       "4      M1H                             Cedarbrae  43.773136 -79.239476"
      ]
     },
     "execution_count": 185,
     "metadata": {},
     "output_type": "execute_result"
    }
   ],
   "source": [
    "merged_df.head()"
   ]
  },
  {
   "cell_type": "markdown",
   "metadata": {},
   "source": [
    "## Step 3: Segment and clustering the neighborhoods in Toronto"
   ]
  },
  {
   "cell_type": "code",
   "execution_count": 17,
   "metadata": {},
   "outputs": [],
   "source": [
    "import requests\n",
    "import json\n",
    "from pandas.io.json import json_normalize"
   ]
  },
  {
   "cell_type": "markdown",
   "metadata": {},
   "source": [
    "### a. First define foursquare credentials and version"
   ]
  },
  {
   "cell_type": "code",
   "execution_count": 18,
   "metadata": {},
   "outputs": [],
   "source": [
    "CLIENT_ID = 'UWQMLMUR3I1YWENTM4TYVCWHWNGINNU4L2SDG4LTFJECG2AO' # your Foursquare ID\n",
    "CLIENT_SECRET = 'DSO5JAZPIRLRS4ALR2D3AJZIC4QWRZAEOOZP5QOGZ0Q0ACCS' # your Foursquare Secret\n",
    "VERSION = '20190822' # Foursquare API version"
   ]
  },
  {
   "cell_type": "code",
   "execution_count": 46,
   "metadata": {},
   "outputs": [],
   "source": [
    "radius = 500\n",
    "LIMIT = 100"
   ]
  },
  {
   "cell_type": "code",
   "execution_count": null,
   "metadata": {},
   "outputs": [],
   "source": [
    "venues_list = pd.Dataframe\n",
    "\n",
    "for pc, lat, lng in zip(merged_df['Postcode'],merged_df['Latitude'],merged_df['Longitude']):\n",
    "    url = 'https://api.foursquare.com/v2/venues/search?&client_id={}&client_secret={}&v={}&ll={},{}&radius={}&limit={}'.format(\n",
    "            CLIENT_ID, \n",
    "            CLIENT_SECRET, \n",
    "            VERSION, \n",
    "            lat, \n",
    "            lng, \n",
    "            radius, \n",
    "            LIMIT)\n",
    "    \n",
    "    results = requests.get(url).json()['response']['venues']\n",
    "    for v in results:\n",
    "        if len(v['categories'])==0:\n",
    "            venues_list.append([pc,lat,lng,None])\n",
    "        else:\n",
    "            venues_list.append([pc,lat,lng,v['categories'][0]['name']])"
   ]
  },
  {
   "cell_type": "markdown",
   "metadata": {},
   "source": [
    "### b. Get the occurence frequencies of different venues at all postcodes"
   ]
  },
  {
   "cell_type": "code",
   "execution_count": 92,
   "metadata": {},
   "outputs": [],
   "source": [
    "venues_df = pd.DataFrame(venues_list,columns=['Postcode','Latitude','Longitude','Venues'])"
   ]
  },
  {
   "cell_type": "code",
   "execution_count": 101,
   "metadata": {},
   "outputs": [],
   "source": [
    "one_hot = pd.get_dummies(venues_df['Venues'])"
   ]
  },
  {
   "cell_type": "code",
   "execution_count": 117,
   "metadata": {},
   "outputs": [],
   "source": [
    "merged_venues = venues_df.merge(one_hot,how='inner',left_index = True, right_index = True).drop(columns=['Latitude','Longitude','Venues'])"
   ]
  },
  {
   "cell_type": "code",
   "execution_count": 152,
   "metadata": {},
   "outputs": [
    {
     "data": {
      "text/plain": [
       "(9883, 497)"
      ]
     },
     "execution_count": 152,
     "metadata": {},
     "output_type": "execute_result"
    }
   ],
   "source": [
    "merged_venues.shape"
   ]
  },
  {
   "cell_type": "code",
   "execution_count": 202,
   "metadata": {},
   "outputs": [
    {
     "data": {
      "text/plain": [
       "(103, 497)"
      ]
     },
     "execution_count": 202,
     "metadata": {},
     "output_type": "execute_result"
    }
   ],
   "source": [
    "grouped_venues_df = merged_venues.groupby('Postcode').mean().reset_index()\n",
    "grouped_venues_df.shape"
   ]
  },
  {
   "cell_type": "markdown",
   "metadata": {},
   "source": [
    "### c. Cluster regions based on the venue occurences"
   ]
  },
  {
   "cell_type": "code",
   "execution_count": 203,
   "metadata": {},
   "outputs": [],
   "source": [
    "from sklearn.cluster import KMeans\n",
    "import matplotlib.pyplot as plt\n",
    "import matplotlib.colors as colors\n",
    "from geopy.geocoders import Nominatim\n",
    "import matplotlib.cm as cm "
   ]
  },
  {
   "cell_type": "code",
   "execution_count": 204,
   "metadata": {},
   "outputs": [],
   "source": [
    "cluster_data = grouped_venues_df.loc[:,'ATM':]"
   ]
  },
  {
   "cell_type": "code",
   "execution_count": 161,
   "metadata": {},
   "outputs": [],
   "source": [
    "K = []\n",
    "SSD = []\n",
    "for k in range(1,11):\n",
    "    k_means = KMeans (n_clusters = k, init = 'k-means++', random_state = 0, n_init = 12)\n",
    "    k_means.fit (cluster_data)\n",
    "    K.append(k)\n",
    "    SSD.append(k_means.inertia_)"
   ]
  },
  {
   "cell_type": "code",
   "execution_count": 162,
   "metadata": {},
   "outputs": [
    {
     "data": {
      "text/plain": [
       "Text(0, 0.5, 'sum of squared distance')"
      ]
     },
     "execution_count": 162,
     "metadata": {},
     "output_type": "execute_result"
    },
    {
     "data": {
      "image/png": "[encoded data removed]",
      "text/plain": [
       "<Figure size 432x288 with 1 Axes>"
      ]
     },
     "metadata": {
      "needs_background": "light"
     },
     "output_type": "display_data"
    }
   ],
   "source": [
    "plt.plot(K,SSD,'-x')\n",
    "plt.xlabel('number of clusters')\n",
    "plt.ylabel('sum of squared distance')"
   ]
  },
  {
   "cell_type": "markdown",
   "metadata": {},
   "source": [
    "From the graph above, I decide to form 8 clusters"
   ]
  },
  {
   "cell_type": "code",
   "execution_count": 167,
   "metadata": {},
   "outputs": [
    {
     "data": {
      "text/plain": [
       "KMeans(algorithm='auto', copy_x=True, init='k-means++', max_iter=300,\n",
       "    n_clusters=8, n_init=12, n_jobs=None, precompute_distances='auto',\n",
       "    random_state=0, tol=0.0001, verbose=0)"
      ]
     },
     "execution_count": 167,
     "metadata": {},
     "output_type": "execute_result"
    }
   ],
   "source": [
    "k_means = KMeans (n_clusters=8 , init = 'k-means++', random_state = 0, n_init = 12)\n",
    "k_means.fit (cluster_data)"
   ]
  },
  {
   "cell_type": "code",
   "execution_count": 181,
   "metadata": {},
   "outputs": [],
   "source": [
    "grouped_venues_df['cluster']= k_means.labels_"
   ]
  },
  {
   "cell_type": "code",
   "execution_count": 190,
   "metadata": {},
   "outputs": [
    {
     "data": {
      "text/html": [
       "<div>\n",
       "<style scoped>\n",
       "    .dataframe tbody tr th:only-of-type {\n",
       "        vertical-align: middle;\n",
       "    }\n",
       "\n",
       "    .dataframe tbody tr th {\n",
       "        vertical-align: top;\n",
       "    }\n",
       "\n",
       "    .dataframe thead th {\n",
       "        text-align: right;\n",
       "    }\n",
       "</style>\n",
       "<table border=\"1\" class=\"dataframe\">\n",
       "  <thead>\n",
       "    <tr style=\"text-align: right;\">\n",
       "      <th></th>\n",
       "      <th>Postcode</th>\n",
       "      <th>ATM</th>\n",
       "      <th>Accessories Store</th>\n",
       "      <th>Acupuncturist</th>\n",
       "      <th>Adult Boutique</th>\n",
       "      <th>Advertising Agency</th>\n",
       "      <th>Afghan Restaurant</th>\n",
       "      <th>African Restaurant</th>\n",
       "      <th>Airport</th>\n",
       "      <th>Airport Food Court</th>\n",
       "      <th>...</th>\n",
       "      <th>Wings Joint</th>\n",
       "      <th>Women's Store</th>\n",
       "      <th>Yemeni Restaurant</th>\n",
       "      <th>Yoga Studio</th>\n",
       "      <th>Zoo</th>\n",
       "      <th>Zoo Exhibit</th>\n",
       "      <th>cluster</th>\n",
       "      <th>Neighbourhood</th>\n",
       "      <th>Latitude</th>\n",
       "      <th>Longitude</th>\n",
       "    </tr>\n",
       "  </thead>\n",
       "  <tbody>\n",
       "    <tr>\n",
       "      <th>0</th>\n",
       "      <td>M1B</td>\n",
       "      <td>0.0</td>\n",
       "      <td>0.0</td>\n",
       "      <td>0.0</td>\n",
       "      <td>0.0</td>\n",
       "      <td>0.0</td>\n",
       "      <td>0.0</td>\n",
       "      <td>0.01</td>\n",
       "      <td>0.0</td>\n",
       "      <td>0.0</td>\n",
       "      <td>...</td>\n",
       "      <td>0.0</td>\n",
       "      <td>0.0</td>\n",
       "      <td>0.0</td>\n",
       "      <td>0.00</td>\n",
       "      <td>0.0</td>\n",
       "      <td>0.01</td>\n",
       "      <td>2</td>\n",
       "      <td>Rouge,Malvern</td>\n",
       "      <td>43.806686</td>\n",
       "      <td>-79.194353</td>\n",
       "    </tr>\n",
       "    <tr>\n",
       "      <th>1</th>\n",
       "      <td>M1C</td>\n",
       "      <td>0.0</td>\n",
       "      <td>0.0</td>\n",
       "      <td>0.0</td>\n",
       "      <td>0.0</td>\n",
       "      <td>0.0</td>\n",
       "      <td>0.0</td>\n",
       "      <td>0.01</td>\n",
       "      <td>0.0</td>\n",
       "      <td>0.0</td>\n",
       "      <td>...</td>\n",
       "      <td>0.0</td>\n",
       "      <td>0.0</td>\n",
       "      <td>0.0</td>\n",
       "      <td>0.01</td>\n",
       "      <td>0.0</td>\n",
       "      <td>0.00</td>\n",
       "      <td>0</td>\n",
       "      <td>Highland Creek,Rouge Hill,Port Union</td>\n",
       "      <td>43.784535</td>\n",
       "      <td>-79.160497</td>\n",
       "    </tr>\n",
       "    <tr>\n",
       "      <th>2</th>\n",
       "      <td>M1E</td>\n",
       "      <td>0.0</td>\n",
       "      <td>0.0</td>\n",
       "      <td>0.0</td>\n",
       "      <td>0.0</td>\n",
       "      <td>0.0</td>\n",
       "      <td>0.0</td>\n",
       "      <td>0.00</td>\n",
       "      <td>0.0</td>\n",
       "      <td>0.0</td>\n",
       "      <td>...</td>\n",
       "      <td>0.0</td>\n",
       "      <td>0.0</td>\n",
       "      <td>0.0</td>\n",
       "      <td>0.00</td>\n",
       "      <td>0.0</td>\n",
       "      <td>0.00</td>\n",
       "      <td>0</td>\n",
       "      <td>Guildwood,Morningside,West Hill</td>\n",
       "      <td>43.763573</td>\n",
       "      <td>-79.188711</td>\n",
       "    </tr>\n",
       "    <tr>\n",
       "      <th>3</th>\n",
       "      <td>M1G</td>\n",
       "      <td>0.0</td>\n",
       "      <td>0.0</td>\n",
       "      <td>0.0</td>\n",
       "      <td>0.0</td>\n",
       "      <td>0.0</td>\n",
       "      <td>0.0</td>\n",
       "      <td>0.00</td>\n",
       "      <td>0.0</td>\n",
       "      <td>0.0</td>\n",
       "      <td>...</td>\n",
       "      <td>0.0</td>\n",
       "      <td>0.0</td>\n",
       "      <td>0.0</td>\n",
       "      <td>0.00</td>\n",
       "      <td>0.0</td>\n",
       "      <td>0.00</td>\n",
       "      <td>0</td>\n",
       "      <td>Woburn</td>\n",
       "      <td>43.770992</td>\n",
       "      <td>-79.216917</td>\n",
       "    </tr>\n",
       "    <tr>\n",
       "      <th>4</th>\n",
       "      <td>M1H</td>\n",
       "      <td>0.0</td>\n",
       "      <td>0.0</td>\n",
       "      <td>0.0</td>\n",
       "      <td>0.0</td>\n",
       "      <td>0.0</td>\n",
       "      <td>0.0</td>\n",
       "      <td>0.00</td>\n",
       "      <td>0.0</td>\n",
       "      <td>0.0</td>\n",
       "      <td>...</td>\n",
       "      <td>0.0</td>\n",
       "      <td>0.0</td>\n",
       "      <td>0.0</td>\n",
       "      <td>0.00</td>\n",
       "      <td>0.0</td>\n",
       "      <td>0.00</td>\n",
       "      <td>2</td>\n",
       "      <td>Cedarbrae</td>\n",
       "      <td>43.773136</td>\n",
       "      <td>-79.239476</td>\n",
       "    </tr>\n",
       "  </tbody>\n",
       "</table>\n",
       "<p>5 rows × 501 columns</p>\n",
       "</div>"
      ],
      "text/plain": [
       "  Postcode  ATM  Accessories Store  Acupuncturist  Adult Boutique  \\\n",
       "0      M1B  0.0                0.0            0.0             0.0   \n",
       "1      M1C  0.0                0.0            0.0             0.0   \n",
       "2      M1E  0.0                0.0            0.0             0.0   \n",
       "3      M1G  0.0                0.0            0.0             0.0   \n",
       "4      M1H  0.0                0.0            0.0             0.0   \n",
       "\n",
       "   Advertising Agency  Afghan Restaurant  African Restaurant  Airport  \\\n",
       "0                 0.0                0.0                0.01      0.0   \n",
       "1                 0.0                0.0                0.01      0.0   \n",
       "2                 0.0                0.0                0.00      0.0   \n",
       "3                 0.0                0.0                0.00      0.0   \n",
       "4                 0.0                0.0                0.00      0.0   \n",
       "\n",
       "   Airport Food Court  ...  Wings Joint  Women's Store  Yemeni Restaurant  \\\n",
       "0                 0.0  ...          0.0            0.0                0.0   \n",
       "1                 0.0  ...          0.0            0.0                0.0   \n",
       "2                 0.0  ...          0.0            0.0                0.0   \n",
       "3                 0.0  ...          0.0            0.0                0.0   \n",
       "4                 0.0  ...          0.0            0.0                0.0   \n",
       "\n",
       "   Yoga Studio  Zoo  Zoo Exhibit  cluster  \\\n",
       "0         0.00  0.0         0.01        2   \n",
       "1         0.01  0.0         0.00        0   \n",
       "2         0.00  0.0         0.00        0   \n",
       "3         0.00  0.0         0.00        0   \n",
       "4         0.00  0.0         0.00        2   \n",
       "\n",
       "                          Neighbourhood   Latitude  Longitude  \n",
       "0                         Rouge,Malvern  43.806686 -79.194353  \n",
       "1  Highland Creek,Rouge Hill,Port Union  43.784535 -79.160497  \n",
       "2       Guildwood,Morningside,West Hill  43.763573 -79.188711  \n",
       "3                                Woburn  43.770992 -79.216917  \n",
       "4                             Cedarbrae  43.773136 -79.239476  \n",
       "\n",
       "[5 rows x 501 columns]"
      ]
     },
     "execution_count": 190,
     "metadata": {},
     "output_type": "execute_result"
    }
   ],
   "source": [
    "venues_clusters_df = grouped_venues_df.merge(merged_df, how = 'inner', on ='Postcode')\n",
    "venues_clusters_df.head()"
   ]
  },
  {
   "cell_type": "markdown",
   "metadata": {},
   "source": [
    "## d. Map out the clustered neighborhoods on the map"
   ]
  },
  {
   "cell_type": "code",
   "execution_count": 179,
   "metadata": {},
   "outputs": [
    {
     "name": "stdout",
     "output_type": "stream",
     "text": [
      "Solving environment: done\n",
      "\n",
      "## Package Plan ##\n",
      "\n",
      "  environment location: /opt/conda/envs/Python36\n",
      "\n",
      "  added / updated specs: \n",
      "    - folium=0.5.0\n",
      "\n",
      "\n",
      "The following packages will be downloaded:\n",
      "\n",
      "    package                    |            build\n",
      "    ---------------------------|-----------------\n",
      "    ca-certificates-2019.6.16  |       hecc5488_0         145 KB  conda-forge\n",
      "    vincent-0.4.4              |             py_1          28 KB  conda-forge\n",
      "    certifi-2019.6.16          |           py36_1         149 KB  conda-forge\n",
      "    openssl-1.1.1c             |       h516909a_0         2.1 MB  conda-forge\n",
      "    altair-3.2.0               |           py36_0         770 KB  conda-forge\n",
      "    branca-0.3.1               |             py_0          25 KB  conda-forge\n",
      "    folium-0.5.0               |             py_0          45 KB  conda-forge\n",
      "    ------------------------------------------------------------\n",
      "                                           Total:         3.3 MB\n",
      "\n",
      "The following NEW packages will be INSTALLED:\n",
      "\n",
      "    altair:          3.2.0-py36_0      conda-forge\n",
      "    branca:          0.3.1-py_0        conda-forge\n",
      "    folium:          0.5.0-py_0        conda-forge\n",
      "    vincent:         0.4.4-py_1        conda-forge\n",
      "\n",
      "The following packages will be UPDATED:\n",
      "\n",
      "    ca-certificates: 2019.5.15-0                   --> 2019.6.16-hecc5488_0 conda-forge\n",
      "    certifi:         2019.6.16-py36_1              --> 2019.6.16-py36_1     conda-forge\n",
      "\n",
      "The following packages will be DOWNGRADED:\n",
      "\n",
      "    openssl:         1.1.1c-h7b6447c_1             --> 1.1.1c-h516909a_0    conda-forge\n",
      "\n",
      "\n",
      "Downloading and Extracting Packages\n",
      "ca-certificates-2019 | 145 KB    | ##################################### | 100% \n",
      "vincent-0.4.4        | 28 KB     | ##################################### | 100% \n",
      "certifi-2019.6.16    | 149 KB    | ##################################### | 100% \n",
      "openssl-1.1.1c       | 2.1 MB    | ##################################### | 100% \n",
      "altair-3.2.0         | 770 KB    | ##################################### | 100% \n",
      "branca-0.3.1         | 25 KB     | ##################################### | 100% \n",
      "folium-0.5.0         | 45 KB     | ##################################### | 100% \n",
      "Preparing transaction: done\n",
      "Verifying transaction: done\n",
      "Executing transaction: done\n"
     ]
    }
   ],
   "source": [
    "!conda install -c conda-forge folium=0.5.0\n",
    "import folium"
   ]
  },
  {
   "cell_type": "code",
   "execution_count": 175,
   "metadata": {},
   "outputs": [],
   "source": [
    "address = 'Toronto,Canada'\n",
    "\n",
    "geolocator = Nominatim(user_agent=\"toronto_explorer\")\n",
    "location = geolocator.geocode(address)\n",
    "latitude = location.latitude\n",
    "longitude = location.longitude"
   ]
  },
  {
   "cell_type": "code",
   "execution_count": 195,
   "metadata": {},
   "outputs": [
    {
     "data": {
      "text/html": [
       "<div style=\"width:100%;\"><div style=\"position:relative;width:100%;height:0;padding-bottom:60%;\"><iframe src=\"data:text/html;charset=utf-8;base64,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\" style=\"position:absolute;width:100%;height:100%;left:0;top:0;border:none !important;\" allowfullscreen webkitallowfullscreen mozallowfullscreen></iframe></div></div>"
      ],
      "text/plain": [
       "<folium.folium.Map at 0x7f5730a98908>"
      ]
     },
     "execution_count": 195,
     "metadata": {},
     "output_type": "execute_result"
    }
   ],
   "source": [
    "map_toronto = folium.Map(location=[latitude, longitude], zoom_start=11)\n",
    "\n",
    "\n",
    "kclusters = 8\n",
    "x = np.arange(kclusters)\n",
    "ys = [i + x + (i*x)**2 for i in range(kclusters)]\n",
    "colors_array = cm.rainbow(np.linspace(0, 1, len(ys)))\n",
    "rainbow = [colors.rgb2hex(i) for i in colors_array]\n",
    "\n",
    "for lat, lon, poi, cluster in zip(venues_clusters_df['Latitude'], venues_clusters_df['Longitude'], venues_clusters_df['Postcode'], venues_clusters_df['cluster']):\n",
    "    label = folium.Popup(str(poi) + ' Cluster ' + str(cluster), parse_html=True)\n",
    "    folium.CircleMarker(\n",
    "        [lat, lon],\n",
    "        radius=5,\n",
    "        popup=label,\n",
    "        color=rainbow[cluster-1],\n",
    "        fill=True,\n",
    "        fill_color=rainbow[cluster-1],\n",
    "        fill_opacity=0.7).add_to(map_toronto)\n",
    "       \n",
    "map_toronto\n"
   ]
  }
 ],
 "metadata": {
  "kernelspec": {
   "display_name": "Python 3.6",
   "language": "python",
   "name": "python3"
  },
  "language_info": {
   "codemirror_mode": {
    "name": "ipython",
    "version": 3
   },
   "file_extension": ".py",
   "mimetype": "text/x-python",
   "name": "python",
   "nbconvert_exporter": "python",
   "pygments_lexer": "ipython3",
   "version": "3.6.8"
  }
 },
 "nbformat": 4,
 "nbformat_minor": 1
}
